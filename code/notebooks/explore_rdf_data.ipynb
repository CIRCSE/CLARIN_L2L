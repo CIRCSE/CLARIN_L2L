{
 "cells": [
  {
   "cell_type": "markdown",
   "metadata": {},
   "source": [
    "# Explore the RDF data"
   ]
  },
  {
   "cell_type": "markdown",
   "metadata": {},
   "source": [
    "In this notebook we explore the RDF data generated with the code in [clarindb2lod.ipynb](clarindb2lod.ipynb). The data consist of 3 files (lemma bank, frequency and sentiment lexicon), and is also available in `data/rdf.zip`."
   ]
  },
  {
   "cell_type": "markdown",
   "metadata": {},
   "source": [
    "![the lemma \"truffatore\"](truffatore.png \"Truffatore\")"
   ]
  },
  {
   "cell_type": "markdown",
   "metadata": {},
   "source": [
    "(what's in this picture? It's a visualization - created using [this]() python script - of the graph for the Italian word *truffatore* 'swindler', labeled as `Negative` in OpeNER and attested in 2 of the textual resources indexed with 1 occurrence each, namely [here](https://hdl.handle.net/20.500.12124/3) and [here](https://hdl.handle.net/11321/737))"
   ]
  },
  {
   "cell_type": "markdown",
   "metadata": {},
   "source": [
    "## Using SPARQL"
   ]
  },
  {
   "cell_type": "markdown",
   "metadata": {},
   "source": [
    "To follow along, you will need to have access to a triplestore. I suggest you donwload a copy of [Jena Fuseki]() and run it on your computer. With the default configuration, you will be able to query the triplestore at http://localhost:3030"
   ]
  },
  {
   "cell_type": "markdown",
   "metadata": {},
   "source": [
    "Once you have a local instance of `fuseki` running:\n",
    "\n",
    "1. create a Dataset named `l2l`\n",
    "2. upload the three ttl files in `data/rdf.zip`"
   ]
  },
  {
   "cell_type": "markdown",
   "metadata": {},
   "source": [
    "Then we can just use `requests` to send SPARQL queries to the endpoint and read the results into a `pandas.DataFrame`.\n",
    "\n",
    "(Obviously, you'll need `pandas` to execute some of the cells below)"
   ]
  },
  {
   "cell_type": "code",
   "execution_count": 9,
   "metadata": {},
   "outputs": [],
   "source": [
    "import requests\n",
    "import pandas as pd"
   ]
  },
  {
   "cell_type": "markdown",
   "metadata": {},
   "source": [
    "This is the address of our endpoint (default values). Change the endpoint address accordingly, if you have access to a different triplestore, or if you are running fuseki on a different port"
   ]
  },
  {
   "cell_type": "code",
   "execution_count": 74,
   "metadata": {},
   "outputs": [],
   "source": [
    "endpoint = 'http://localhost:3030/l2l/query'"
   ]
  },
  {
   "cell_type": "markdown",
   "metadata": {},
   "source": [
    "This query gets all the negative words from our LOD version of OpeNER, with the URI of the lemma, the lemma string and the POS"
   ]
  },
  {
   "cell_type": "code",
   "execution_count": 38,
   "metadata": {},
   "outputs": [],
   "source": [
    "spql = '''\n",
    "PREFIX lime: <http://www.w3.org/ns/lemon/lime#>\n",
    "PREFIX ontolex: <http://www.w3.org/ns/lemon/ontolex#>\n",
    "PREFIX marl: <http://www.gsi.dit.upm.es/ontologies/marl/ns#>\n",
    "prefix lexinfo: <https://www.lexinfo.net/ontology/3.0/lexinfo#>\n",
    "\n",
    "select * where {\n",
    "  ?lex_entry a ontolex:LexicalEntry ;\n",
    "      ontolex:canonicalForm ?lemma_uri ;\n",
    "      ontolex:sense/marl:hasPolarity marl:Negative .\n",
    "  ?lemma_uri ontolex:writtenRep ?lemma_str ;\n",
    "      lexinfo:partOfSpeech ?pos\n",
    "}\n",
    "'''"
   ]
  },
  {
   "cell_type": "code",
   "execution_count": 33,
   "metadata": {},
   "outputs": [],
   "source": [
    "r = requests.get(endpoint, params={'query': spql, 'format': 'csv'})"
   ]
  },
  {
   "cell_type": "code",
   "execution_count": 34,
   "metadata": {},
   "outputs": [
    {
     "data": {
      "text/html": [
       "<div>\n",
       "<style scoped>\n",
       "    .dataframe tbody tr th:only-of-type {\n",
       "        vertical-align: middle;\n",
       "    }\n",
       "\n",
       "    .dataframe tbody tr th {\n",
       "        vertical-align: top;\n",
       "    }\n",
       "\n",
       "    .dataframe thead th {\n",
       "        text-align: right;\n",
       "    }\n",
       "</style>\n",
       "<table border=\"1\" class=\"dataframe\">\n",
       "  <thead>\n",
       "    <tr style=\"text-align: right;\">\n",
       "      <th></th>\n",
       "      <th>lex_entry</th>\n",
       "      <th>lemma_uri</th>\n",
       "      <th>lemma_str</th>\n",
       "      <th>pos</th>\n",
       "    </tr>\n",
       "  </thead>\n",
       "  <tbody>\n",
       "    <tr>\n",
       "      <th>0</th>\n",
       "      <td>http://hdl.handle.net/20.500.11752/ILC-73#1000</td>\n",
       "      <td>urn:cite2:circselod:l2l.it:lemma_49680</td>\n",
       "      <td>autodistruzione</td>\n",
       "      <td>https://www.lexinfo.net/ontology/3.0/lexinfo#c...</td>\n",
       "    </tr>\n",
       "    <tr>\n",
       "      <th>1</th>\n",
       "      <td>http://hdl.handle.net/20.500.11752/ILC-73#10001</td>\n",
       "      <td>urn:cite2:circselod:l2l.it:lemma_69892</td>\n",
       "      <td>nuocere</td>\n",
       "      <td>https://www.lexinfo.net/ontology/3.0/lexinfo#verb</td>\n",
       "    </tr>\n",
       "    <tr>\n",
       "      <th>2</th>\n",
       "      <td>http://hdl.handle.net/20.500.11752/ILC-73#10004</td>\n",
       "      <td>urn:cite2:circselod:l2l.it:lemma_5376</td>\n",
       "      <td>rada</td>\n",
       "      <td>https://www.lexinfo.net/ontology/3.0/lexinfo#c...</td>\n",
       "    </tr>\n",
       "    <tr>\n",
       "      <th>3</th>\n",
       "      <td>http://hdl.handle.net/20.500.11752/ILC-73#1002</td>\n",
       "      <td>urn:cite2:circselod:l2l.it:lemma_5743</td>\n",
       "      <td>svalutazione</td>\n",
       "      <td>https://www.lexinfo.net/ontology/3.0/lexinfo#c...</td>\n",
       "    </tr>\n",
       "    <tr>\n",
       "      <th>4</th>\n",
       "      <td>http://hdl.handle.net/20.500.11752/ILC-73#10026</td>\n",
       "      <td>urn:cite2:circselod:l2l.it:lemma_13168</td>\n",
       "      <td>auspicare</td>\n",
       "      <td>https://www.lexinfo.net/ontology/3.0/lexinfo#verb</td>\n",
       "    </tr>\n",
       "  </tbody>\n",
       "</table>\n",
       "</div>"
      ],
      "text/plain": [
       "                                         lex_entry  \\\n",
       "0   http://hdl.handle.net/20.500.11752/ILC-73#1000   \n",
       "1  http://hdl.handle.net/20.500.11752/ILC-73#10001   \n",
       "2  http://hdl.handle.net/20.500.11752/ILC-73#10004   \n",
       "3   http://hdl.handle.net/20.500.11752/ILC-73#1002   \n",
       "4  http://hdl.handle.net/20.500.11752/ILC-73#10026   \n",
       "\n",
       "                                lemma_uri        lemma_str  \\\n",
       "0  urn:cite2:circselod:l2l.it:lemma_49680  autodistruzione   \n",
       "1  urn:cite2:circselod:l2l.it:lemma_69892          nuocere   \n",
       "2   urn:cite2:circselod:l2l.it:lemma_5376             rada   \n",
       "3   urn:cite2:circselod:l2l.it:lemma_5743     svalutazione   \n",
       "4  urn:cite2:circselod:l2l.it:lemma_13168        auspicare   \n",
       "\n",
       "                                                 pos  \n",
       "0  https://www.lexinfo.net/ontology/3.0/lexinfo#c...  \n",
       "1  https://www.lexinfo.net/ontology/3.0/lexinfo#verb  \n",
       "2  https://www.lexinfo.net/ontology/3.0/lexinfo#c...  \n",
       "3  https://www.lexinfo.net/ontology/3.0/lexinfo#c...  \n",
       "4  https://www.lexinfo.net/ontology/3.0/lexinfo#verb  "
      ]
     },
     "execution_count": 34,
     "metadata": {},
     "output_type": "execute_result"
    }
   ],
   "source": [
    "from io import StringIO\n",
    "df = pd.read_csv(StringIO(r.text))\n",
    "df.head()"
   ]
  },
  {
   "cell_type": "markdown",
   "metadata": {},
   "source": [
    "## Use case: the most attested negative and positive lemmas"
   ]
  },
  {
   "cell_type": "markdown",
   "metadata": {},
   "source": [
    "Let us use the SPARQL enpoint to query all our datasets and get the positive/negative lemmas with the highest combined frequencies in all the lexical resources that we indexed. I am sure there is a smarter way to do that in SPARQL, but we'll just get a long list of lemmas and we'll use `pandas` to sort them out and do the math."
   ]
  },
  {
   "cell_type": "code",
   "execution_count": 41,
   "metadata": {},
   "outputs": [],
   "source": [
    "rq = '''PREFIX lime: <http://www.w3.org/ns/lemon/lime#>\n",
    "PREFIX ontolex: <http://www.w3.org/ns/lemon/ontolex#>\n",
    "PREFIX marl: <http://www.gsi.dit.upm.es/ontologies/marl/ns#>\n",
    "prefix lexinfo: <https://www.lexinfo.net/ontology/3.0/lexinfo#>\n",
    "prefix frac: <http://www.w3.org/ns/lemon/frac#>\n",
    "prefix rdf: <http://www.w3.org/1999/02/22-rdf-syntax-ns#>\n",
    "\n",
    "select ?lex ?lab ?pos ?pol ?freq_val ?freq_text where {\n",
    "  <http://hdl.handle.net/20.500.11752/ILC-73> lime:entry ?lex .\n",
    "  ?lex ontolex:canonicalForm ?lemma_uri ;\n",
    "      ontolex:sense/marl:hasPolarity ?pol .\n",
    "  ?lemma_uri ontolex:writtenRep ?lemma_str ;\n",
    "      ontolex:writtenRep ?lab ;\n",
    "      lexinfo:partOfSpeech ?pos ;\n",
    "      lexinfo:partOfSpeech ?pos .\n",
    "  ?freq_le ontolex:canonicalForm ?lemma_uri ;\n",
    "           frac:frequency [ rdf:value ?freq_val ; frac:observedIn ?freq_text ] .\t\n",
    "FILTER (?pol IN (marl:Positive, marl:Negative))\n",
    "}\n",
    "'''"
   ]
  },
  {
   "cell_type": "code",
   "execution_count": 42,
   "metadata": {},
   "outputs": [
    {
     "data": {
      "text/plain": [
       "200"
      ]
     },
     "execution_count": 42,
     "metadata": {},
     "output_type": "execute_result"
    }
   ],
   "source": [
    "res = requests.get(endpoint, params={'query': rq, 'format': 'csv'})\n",
    "res.status_code"
   ]
  },
  {
   "cell_type": "markdown",
   "metadata": {},
   "source": [
    "All good! Now let's create the dataframe"
   ]
  },
  {
   "cell_type": "code",
   "execution_count": 43,
   "metadata": {},
   "outputs": [
    {
     "data": {
      "text/html": [
       "<div>\n",
       "<style scoped>\n",
       "    .dataframe tbody tr th:only-of-type {\n",
       "        vertical-align: middle;\n",
       "    }\n",
       "\n",
       "    .dataframe tbody tr th {\n",
       "        vertical-align: top;\n",
       "    }\n",
       "\n",
       "    .dataframe thead th {\n",
       "        text-align: right;\n",
       "    }\n",
       "</style>\n",
       "<table border=\"1\" class=\"dataframe\">\n",
       "  <thead>\n",
       "    <tr style=\"text-align: right;\">\n",
       "      <th></th>\n",
       "      <th>lex</th>\n",
       "      <th>lab</th>\n",
       "      <th>pos</th>\n",
       "      <th>pol</th>\n",
       "      <th>freq_val</th>\n",
       "      <th>freq_text</th>\n",
       "    </tr>\n",
       "  </thead>\n",
       "  <tbody>\n",
       "    <tr>\n",
       "      <th>0</th>\n",
       "      <td>http://hdl.handle.net/20.500.11752/ILC-73#10011</td>\n",
       "      <td>anonimo</td>\n",
       "      <td>https://www.lexinfo.net/ontology/3.0/lexinfo#c...</td>\n",
       "      <td>http://www.gsi.dit.upm.es/ontologies/marl/ns#P...</td>\n",
       "      <td>7</td>\n",
       "      <td>https://hdl.handle.net/20.500.12124/3</td>\n",
       "    </tr>\n",
       "    <tr>\n",
       "      <th>1</th>\n",
       "      <td>http://hdl.handle.net/20.500.11752/ILC-73#10012</td>\n",
       "      <td>polifonia</td>\n",
       "      <td>https://www.lexinfo.net/ontology/3.0/lexinfo#c...</td>\n",
       "      <td>http://www.gsi.dit.upm.es/ontologies/marl/ns#P...</td>\n",
       "      <td>2</td>\n",
       "      <td>https://hdl.handle.net/20.500.11752/OPEN-980</td>\n",
       "    </tr>\n",
       "    <tr>\n",
       "      <th>2</th>\n",
       "      <td>http://hdl.handle.net/20.500.11752/ILC-73#10018</td>\n",
       "      <td>nomenclatura</td>\n",
       "      <td>https://www.lexinfo.net/ontology/3.0/lexinfo#c...</td>\n",
       "      <td>http://www.gsi.dit.upm.es/ontologies/marl/ns#P...</td>\n",
       "      <td>1</td>\n",
       "      <td>https://hdl.handle.net/20.500.11752/OPEN-548</td>\n",
       "    </tr>\n",
       "    <tr>\n",
       "      <th>3</th>\n",
       "      <td>http://hdl.handle.net/20.500.11752/ILC-73#10018</td>\n",
       "      <td>nomenclatura</td>\n",
       "      <td>https://www.lexinfo.net/ontology/3.0/lexinfo#c...</td>\n",
       "      <td>http://www.gsi.dit.upm.es/ontologies/marl/ns#P...</td>\n",
       "      <td>2</td>\n",
       "      <td>https://hdl.handle.net/11356/1674</td>\n",
       "    </tr>\n",
       "    <tr>\n",
       "      <th>4</th>\n",
       "      <td>http://hdl.handle.net/20.500.11752/ILC-73#10024</td>\n",
       "      <td>invulnerabile</td>\n",
       "      <td>https://www.lexinfo.net/ontology/3.0/lexinfo#a...</td>\n",
       "      <td>http://www.gsi.dit.upm.es/ontologies/marl/ns#P...</td>\n",
       "      <td>4</td>\n",
       "      <td>https://hdl.handle.net/20.500.11752/OPEN-980</td>\n",
       "    </tr>\n",
       "  </tbody>\n",
       "</table>\n",
       "</div>"
      ],
      "text/plain": [
       "                                               lex            lab  \\\n",
       "0  http://hdl.handle.net/20.500.11752/ILC-73#10011        anonimo   \n",
       "1  http://hdl.handle.net/20.500.11752/ILC-73#10012      polifonia   \n",
       "2  http://hdl.handle.net/20.500.11752/ILC-73#10018   nomenclatura   \n",
       "3  http://hdl.handle.net/20.500.11752/ILC-73#10018   nomenclatura   \n",
       "4  http://hdl.handle.net/20.500.11752/ILC-73#10024  invulnerabile   \n",
       "\n",
       "                                                 pos  \\\n",
       "0  https://www.lexinfo.net/ontology/3.0/lexinfo#c...   \n",
       "1  https://www.lexinfo.net/ontology/3.0/lexinfo#c...   \n",
       "2  https://www.lexinfo.net/ontology/3.0/lexinfo#c...   \n",
       "3  https://www.lexinfo.net/ontology/3.0/lexinfo#c...   \n",
       "4  https://www.lexinfo.net/ontology/3.0/lexinfo#a...   \n",
       "\n",
       "                                                 pol  freq_val  \\\n",
       "0  http://www.gsi.dit.upm.es/ontologies/marl/ns#P...         7   \n",
       "1  http://www.gsi.dit.upm.es/ontologies/marl/ns#P...         2   \n",
       "2  http://www.gsi.dit.upm.es/ontologies/marl/ns#P...         1   \n",
       "3  http://www.gsi.dit.upm.es/ontologies/marl/ns#P...         2   \n",
       "4  http://www.gsi.dit.upm.es/ontologies/marl/ns#P...         4   \n",
       "\n",
       "                                      freq_text  \n",
       "0         https://hdl.handle.net/20.500.12124/3  \n",
       "1  https://hdl.handle.net/20.500.11752/OPEN-980  \n",
       "2  https://hdl.handle.net/20.500.11752/OPEN-548  \n",
       "3             https://hdl.handle.net/11356/1674  \n",
       "4  https://hdl.handle.net/20.500.11752/OPEN-980  "
      ]
     },
     "execution_count": 43,
     "metadata": {},
     "output_type": "execute_result"
    }
   ],
   "source": [
    "df = pd.read_csv(StringIO(res.text))\n",
    "df.head()"
   ]
  },
  {
   "cell_type": "markdown",
   "metadata": {},
   "source": [
    "By inspecting some of the results, we notice that several generic verbs (like *pensare* 'to think', or *avere* 'to have') are annotated with a sentiment value in OpeNER, although an automatically assigned one, as it is visible from this fragment:\n",
    "\n",
    "```xml\n",
    "<LexicalEntry id=\"id_6396\" partOfSpeech=\"verb\">\n",
    "      <Lemma writtenForm=\"avere\"/>\n",
    "      <Sense>\n",
    "        <Confidence score=\"0.5\" method=\"automatic\"/>\n",
    "        <Sentiment polarity=\"negative\"/>\n",
    "        <Domain/>\n",
    "      </Sense>\n",
    "    </LexicalEntry>\n",
    "```\n",
    "\n",
    "In our calculations we will just use nouns, adjectives and adverbs (we leave verbs out). \n",
    "\n",
    "We now create 2 pivot tables: one aggregating the total attestation score for positive words, one for the negative"
   ]
  },
  {
   "cell_type": "code",
   "execution_count": 75,
   "metadata": {},
   "outputs": [],
   "source": [
    "# We create the filters: negative/positive polarity and every pos but verbs\n",
    "marl_url = 'http://www.gsi.dit.upm.es/ontologies/marl/ns#'\n",
    "lexinfo = 'https://www.lexinfo.net/ontology/3.0/lexinfo#'\n",
    "neg_filt = (df.pol ==  f'{marl_url}Negative') & (df.pos != f'{lexinfo}verb')\n",
    "pos_filt = (df.pol ==  f'{marl_url}Positive') & (df.pos != f'{lexinfo}verb')\n",
    "\n",
    "pivot_table_neg = df[neg_filt].pivot_table(\n",
    "    values='freq_val',  # Values to aggregate\n",
    "    index=['lex', 'lab', 'pos', 'pol'],  # Columns to group by\n",
    "    aggfunc='sum'  # Aggregation function (sum in this case)\n",
    ")\n",
    "\n",
    "pivot_table_pos = df[pos_filt].pivot_table(\n",
    "    values='freq_val',  # Values to aggregate\n",
    "    index=['lex', 'lab', 'pos', 'pol'],  # Columns to group by\n",
    "    aggfunc='sum'  # Aggregation function (sum in this case)\n",
    ")"
   ]
  },
  {
   "cell_type": "markdown",
   "metadata": {},
   "source": [
    "And here are the top-10 most frequent **negative** nouns/adjectives. We find words like:\n",
    "* servizio ('service')\n",
    "* problema ('problem')\n",
    "* punto ('point', ???)\n",
    "* piccolo ('little', 'small')\n",
    "* bisogno ('need')\n",
    "\n",
    "..."
   ]
  },
  {
   "cell_type": "code",
   "execution_count": 66,
   "metadata": {},
   "outputs": [
    {
     "data": {
      "text/html": [
       "<div>\n",
       "<style scoped>\n",
       "    .dataframe tbody tr th:only-of-type {\n",
       "        vertical-align: middle;\n",
       "    }\n",
       "\n",
       "    .dataframe tbody tr th {\n",
       "        vertical-align: top;\n",
       "    }\n",
       "\n",
       "    .dataframe thead th {\n",
       "        text-align: right;\n",
       "    }\n",
       "</style>\n",
       "<table border=\"1\" class=\"dataframe\">\n",
       "  <thead>\n",
       "    <tr style=\"text-align: right;\">\n",
       "      <th></th>\n",
       "      <th></th>\n",
       "      <th></th>\n",
       "      <th></th>\n",
       "      <th>freq_val</th>\n",
       "    </tr>\n",
       "    <tr>\n",
       "      <th>lex</th>\n",
       "      <th>lab</th>\n",
       "      <th>pos</th>\n",
       "      <th>pol</th>\n",
       "      <th></th>\n",
       "    </tr>\n",
       "  </thead>\n",
       "  <tbody>\n",
       "    <tr>\n",
       "      <th>http://hdl.handle.net/20.500.11752/ILC-73#18105</th>\n",
       "      <th>servizio</th>\n",
       "      <th>https://www.lexinfo.net/ontology/3.0/lexinfo#commonNoun</th>\n",
       "      <th>http://www.gsi.dit.upm.es/ontologies/marl/ns#Negative</th>\n",
       "      <td>2701</td>\n",
       "    </tr>\n",
       "    <tr>\n",
       "      <th>http://hdl.handle.net/20.500.11752/ILC-73#18444</th>\n",
       "      <th>problema</th>\n",
       "      <th>https://www.lexinfo.net/ontology/3.0/lexinfo#commonNoun</th>\n",
       "      <th>http://www.gsi.dit.upm.es/ontologies/marl/ns#Negative</th>\n",
       "      <td>2308</td>\n",
       "    </tr>\n",
       "    <tr>\n",
       "      <th>http://hdl.handle.net/20.500.11752/ILC-73#598</th>\n",
       "      <th>punto</th>\n",
       "      <th>https://www.lexinfo.net/ontology/3.0/lexinfo#commonNoun</th>\n",
       "      <th>http://www.gsi.dit.upm.es/ontologies/marl/ns#Negative</th>\n",
       "      <td>2137</td>\n",
       "    </tr>\n",
       "    <tr>\n",
       "      <th>http://hdl.handle.net/20.500.11752/ILC-73#22461</th>\n",
       "      <th>piccolo</th>\n",
       "      <th>https://www.lexinfo.net/ontology/3.0/lexinfo#adjective</th>\n",
       "      <th>http://www.gsi.dit.upm.es/ontologies/marl/ns#Negative</th>\n",
       "      <td>1983</td>\n",
       "    </tr>\n",
       "    <tr>\n",
       "      <th>http://hdl.handle.net/20.500.11752/ILC-73#22250</th>\n",
       "      <th>bisogno</th>\n",
       "      <th>https://www.lexinfo.net/ontology/3.0/lexinfo#commonNoun</th>\n",
       "      <th>http://www.gsi.dit.upm.es/ontologies/marl/ns#Negative</th>\n",
       "      <td>1969</td>\n",
       "    </tr>\n",
       "    <tr>\n",
       "      <th>http://hdl.handle.net/20.500.11752/ILC-73#16790</th>\n",
       "      <th>seme</th>\n",
       "      <th>https://www.lexinfo.net/ontology/3.0/lexinfo#commonNoun</th>\n",
       "      <th>http://www.gsi.dit.upm.es/ontologies/marl/ns#Negative</th>\n",
       "      <td>1964</td>\n",
       "    </tr>\n",
       "    <tr>\n",
       "      <th>http://hdl.handle.net/20.500.11752/ILC-73#7205</th>\n",
       "      <th>senso</th>\n",
       "      <th>https://www.lexinfo.net/ontology/3.0/lexinfo#commonNoun</th>\n",
       "      <th>http://www.gsi.dit.upm.es/ontologies/marl/ns#Negative</th>\n",
       "      <td>1583</td>\n",
       "    </tr>\n",
       "    <tr>\n",
       "      <th>http://hdl.handle.net/20.500.11752/ILC-73#13524</th>\n",
       "      <th>orribile</th>\n",
       "      <th>https://www.lexinfo.net/ontology/3.0/lexinfo#adjective</th>\n",
       "      <th>http://www.gsi.dit.upm.es/ontologies/marl/ns#Negative</th>\n",
       "      <td>1213</td>\n",
       "    </tr>\n",
       "    <tr>\n",
       "      <th>http://hdl.handle.net/20.500.11752/ILC-73#5849</th>\n",
       "      <th>difficile</th>\n",
       "      <th>https://www.lexinfo.net/ontology/3.0/lexinfo#adjective</th>\n",
       "      <th>http://www.gsi.dit.upm.es/ontologies/marl/ns#Negative</th>\n",
       "      <td>1136</td>\n",
       "    </tr>\n",
       "    <tr>\n",
       "      <th>http://hdl.handle.net/20.500.11752/ILC-73#14727</th>\n",
       "      <th>successivo</th>\n",
       "      <th>https://www.lexinfo.net/ontology/3.0/lexinfo#adjective</th>\n",
       "      <th>http://www.gsi.dit.upm.es/ontologies/marl/ns#Negative</th>\n",
       "      <td>1002</td>\n",
       "    </tr>\n",
       "  </tbody>\n",
       "</table>\n",
       "</div>"
      ],
      "text/plain": [
       "                                                                                                                                                                  freq_val\n",
       "lex                                             lab        pos                                                pol                                                         \n",
       "http://hdl.handle.net/20.500.11752/ILC-73#18105 servizio   https://www.lexinfo.net/ontology/3.0/lexinfo#co... http://www.gsi.dit.upm.es/ontologies/marl/ns#Ne...      2701\n",
       "http://hdl.handle.net/20.500.11752/ILC-73#18444 problema   https://www.lexinfo.net/ontology/3.0/lexinfo#co... http://www.gsi.dit.upm.es/ontologies/marl/ns#Ne...      2308\n",
       "http://hdl.handle.net/20.500.11752/ILC-73#598   punto      https://www.lexinfo.net/ontology/3.0/lexinfo#co... http://www.gsi.dit.upm.es/ontologies/marl/ns#Ne...      2137\n",
       "http://hdl.handle.net/20.500.11752/ILC-73#22461 piccolo    https://www.lexinfo.net/ontology/3.0/lexinfo#ad... http://www.gsi.dit.upm.es/ontologies/marl/ns#Ne...      1983\n",
       "http://hdl.handle.net/20.500.11752/ILC-73#22250 bisogno    https://www.lexinfo.net/ontology/3.0/lexinfo#co... http://www.gsi.dit.upm.es/ontologies/marl/ns#Ne...      1969\n",
       "http://hdl.handle.net/20.500.11752/ILC-73#16790 seme       https://www.lexinfo.net/ontology/3.0/lexinfo#co... http://www.gsi.dit.upm.es/ontologies/marl/ns#Ne...      1964\n",
       "http://hdl.handle.net/20.500.11752/ILC-73#7205  senso      https://www.lexinfo.net/ontology/3.0/lexinfo#co... http://www.gsi.dit.upm.es/ontologies/marl/ns#Ne...      1583\n",
       "http://hdl.handle.net/20.500.11752/ILC-73#13524 orribile   https://www.lexinfo.net/ontology/3.0/lexinfo#ad... http://www.gsi.dit.upm.es/ontologies/marl/ns#Ne...      1213\n",
       "http://hdl.handle.net/20.500.11752/ILC-73#5849  difficile  https://www.lexinfo.net/ontology/3.0/lexinfo#ad... http://www.gsi.dit.upm.es/ontologies/marl/ns#Ne...      1136\n",
       "http://hdl.handle.net/20.500.11752/ILC-73#14727 successivo https://www.lexinfo.net/ontology/3.0/lexinfo#ad... http://www.gsi.dit.upm.es/ontologies/marl/ns#Ne...      1002"
      ]
     },
     "execution_count": 66,
     "metadata": {},
     "output_type": "execute_result"
    }
   ],
   "source": [
    "pivot_table_neg.sort_values('freq_val', ascending=False).head(10)"
   ]
  },
  {
   "cell_type": "markdown",
   "metadata": {},
   "source": [
    "And here are the top-10 most frequent **positive** entries, like:\n",
    "* amico ('friend')\n",
    "* casa ('house', 'home')\n",
    "* bello ('nice', 'beautiful')\n",
    "* buono ('good')\n",
    "* caro ('dear')\n",
    "\n",
    "..."
   ]
  },
  {
   "cell_type": "code",
   "execution_count": 62,
   "metadata": {},
   "outputs": [
    {
     "data": {
      "text/html": [
       "<div>\n",
       "<style scoped>\n",
       "    .dataframe tbody tr th:only-of-type {\n",
       "        vertical-align: middle;\n",
       "    }\n",
       "\n",
       "    .dataframe tbody tr th {\n",
       "        vertical-align: top;\n",
       "    }\n",
       "\n",
       "    .dataframe thead th {\n",
       "        text-align: right;\n",
       "    }\n",
       "</style>\n",
       "<table border=\"1\" class=\"dataframe\">\n",
       "  <thead>\n",
       "    <tr style=\"text-align: right;\">\n",
       "      <th></th>\n",
       "      <th></th>\n",
       "      <th></th>\n",
       "      <th></th>\n",
       "      <th>freq_val</th>\n",
       "    </tr>\n",
       "    <tr>\n",
       "      <th>lex</th>\n",
       "      <th>lab</th>\n",
       "      <th>pos</th>\n",
       "      <th>pol</th>\n",
       "      <th></th>\n",
       "    </tr>\n",
       "  </thead>\n",
       "  <tbody>\n",
       "    <tr>\n",
       "      <th>http://hdl.handle.net/20.500.11752/ILC-73#24469</th>\n",
       "      <th>amico</th>\n",
       "      <th>https://www.lexinfo.net/ontology/3.0/lexinfo#commonNoun</th>\n",
       "      <th>http://www.gsi.dit.upm.es/ontologies/marl/ns#Positive</th>\n",
       "      <td>4378</td>\n",
       "    </tr>\n",
       "    <tr>\n",
       "      <th>http://hdl.handle.net/20.500.11752/ILC-73#5396</th>\n",
       "      <th>casa</th>\n",
       "      <th>https://www.lexinfo.net/ontology/3.0/lexinfo#commonNoun</th>\n",
       "      <th>http://www.gsi.dit.upm.es/ontologies/marl/ns#Positive</th>\n",
       "      <td>3659</td>\n",
       "    </tr>\n",
       "    <tr>\n",
       "      <th>http://hdl.handle.net/20.500.11752/ILC-73#15983</th>\n",
       "      <th>bello</th>\n",
       "      <th>https://www.lexinfo.net/ontology/3.0/lexinfo#adjective</th>\n",
       "      <th>http://www.gsi.dit.upm.es/ontologies/marl/ns#Positive</th>\n",
       "      <td>3500</td>\n",
       "    </tr>\n",
       "    <tr>\n",
       "      <th>http://hdl.handle.net/20.500.11752/ILC-73#8815</th>\n",
       "      <th>buono</th>\n",
       "      <th>https://www.lexinfo.net/ontology/3.0/lexinfo#adjective</th>\n",
       "      <th>http://www.gsi.dit.upm.es/ontologies/marl/ns#Positive</th>\n",
       "      <td>3210</td>\n",
       "    </tr>\n",
       "    <tr>\n",
       "      <th>http://hdl.handle.net/20.500.11752/ILC-73#12542</th>\n",
       "      <th>caro</th>\n",
       "      <th>https://www.lexinfo.net/ontology/3.0/lexinfo#adjective</th>\n",
       "      <th>http://www.gsi.dit.upm.es/ontologies/marl/ns#Positive</th>\n",
       "      <td>3175</td>\n",
       "    </tr>\n",
       "    <tr>\n",
       "      <th>http://hdl.handle.net/20.500.11752/ILC-73#19436</th>\n",
       "      <th>primo</th>\n",
       "      <th>https://www.lexinfo.net/ontology/3.0/lexinfo#adjective</th>\n",
       "      <th>http://www.gsi.dit.upm.es/ontologies/marl/ns#Positive</th>\n",
       "      <td>3123</td>\n",
       "    </tr>\n",
       "    <tr>\n",
       "      <th>http://hdl.handle.net/20.500.11752/ILC-73#5259</th>\n",
       "      <th>legge</th>\n",
       "      <th>https://www.lexinfo.net/ontology/3.0/lexinfo#commonNoun</th>\n",
       "      <th>http://www.gsi.dit.upm.es/ontologies/marl/ns#Positive</th>\n",
       "      <td>2654</td>\n",
       "    </tr>\n",
       "    <tr>\n",
       "      <th>http://hdl.handle.net/20.500.11752/ILC-73#17373</th>\n",
       "      <th>vita</th>\n",
       "      <th>https://www.lexinfo.net/ontology/3.0/lexinfo#commonNoun</th>\n",
       "      <th>http://www.gsi.dit.upm.es/ontologies/marl/ns#Positive</th>\n",
       "      <td>2464</td>\n",
       "    </tr>\n",
       "    <tr>\n",
       "      <th>http://hdl.handle.net/20.500.11752/ILC-73#7864</th>\n",
       "      <th>decreto</th>\n",
       "      <th>https://www.lexinfo.net/ontology/3.0/lexinfo#commonNoun</th>\n",
       "      <th>http://www.gsi.dit.upm.es/ontologies/marl/ns#Positive</th>\n",
       "      <td>2055</td>\n",
       "    </tr>\n",
       "    <tr>\n",
       "      <th>http://hdl.handle.net/20.500.11752/ILC-73#19928</th>\n",
       "      <th>libero</th>\n",
       "      <th>https://www.lexinfo.net/ontology/3.0/lexinfo#adjective</th>\n",
       "      <th>http://www.gsi.dit.upm.es/ontologies/marl/ns#Positive</th>\n",
       "      <td>2016</td>\n",
       "    </tr>\n",
       "  </tbody>\n",
       "</table>\n",
       "</div>"
      ],
      "text/plain": [
       "                                                                                                                                                               freq_val\n",
       "lex                                             lab     pos                                                pol                                                         \n",
       "http://hdl.handle.net/20.500.11752/ILC-73#24469 amico   https://www.lexinfo.net/ontology/3.0/lexinfo#co... http://www.gsi.dit.upm.es/ontologies/marl/ns#Po...      4378\n",
       "http://hdl.handle.net/20.500.11752/ILC-73#5396  casa    https://www.lexinfo.net/ontology/3.0/lexinfo#co... http://www.gsi.dit.upm.es/ontologies/marl/ns#Po...      3659\n",
       "http://hdl.handle.net/20.500.11752/ILC-73#15983 bello   https://www.lexinfo.net/ontology/3.0/lexinfo#ad... http://www.gsi.dit.upm.es/ontologies/marl/ns#Po...      3500\n",
       "http://hdl.handle.net/20.500.11752/ILC-73#8815  buono   https://www.lexinfo.net/ontology/3.0/lexinfo#ad... http://www.gsi.dit.upm.es/ontologies/marl/ns#Po...      3210\n",
       "http://hdl.handle.net/20.500.11752/ILC-73#12542 caro    https://www.lexinfo.net/ontology/3.0/lexinfo#ad... http://www.gsi.dit.upm.es/ontologies/marl/ns#Po...      3175\n",
       "http://hdl.handle.net/20.500.11752/ILC-73#19436 primo   https://www.lexinfo.net/ontology/3.0/lexinfo#ad... http://www.gsi.dit.upm.es/ontologies/marl/ns#Po...      3123\n",
       "http://hdl.handle.net/20.500.11752/ILC-73#5259  legge   https://www.lexinfo.net/ontology/3.0/lexinfo#co... http://www.gsi.dit.upm.es/ontologies/marl/ns#Po...      2654\n",
       "http://hdl.handle.net/20.500.11752/ILC-73#17373 vita    https://www.lexinfo.net/ontology/3.0/lexinfo#co... http://www.gsi.dit.upm.es/ontologies/marl/ns#Po...      2464\n",
       "http://hdl.handle.net/20.500.11752/ILC-73#7864  decreto https://www.lexinfo.net/ontology/3.0/lexinfo#co... http://www.gsi.dit.upm.es/ontologies/marl/ns#Po...      2055\n",
       "http://hdl.handle.net/20.500.11752/ILC-73#19928 libero  https://www.lexinfo.net/ontology/3.0/lexinfo#ad... http://www.gsi.dit.upm.es/ontologies/marl/ns#Po...      2016"
      ]
     },
     "execution_count": 62,
     "metadata": {},
     "output_type": "execute_result"
    }
   ],
   "source": [
    "pivot_table_pos.sort_values('freq_val', ascending=False).head(10)"
   ]
  },
  {
   "cell_type": "markdown",
   "metadata": {},
   "source": [
    "What if we want to know where the negative noun *malfunzionamento* ('malfunctioning') occurs?"
   ]
  },
  {
   "cell_type": "code",
   "execution_count": 73,
   "metadata": {},
   "outputs": [
    {
     "data": {
      "text/html": [
       "<div>\n",
       "<style scoped>\n",
       "    .dataframe tbody tr th:only-of-type {\n",
       "        vertical-align: middle;\n",
       "    }\n",
       "\n",
       "    .dataframe tbody tr th {\n",
       "        vertical-align: top;\n",
       "    }\n",
       "\n",
       "    .dataframe thead th {\n",
       "        text-align: right;\n",
       "    }\n",
       "</style>\n",
       "<table border=\"1\" class=\"dataframe\">\n",
       "  <thead>\n",
       "    <tr style=\"text-align: right;\">\n",
       "      <th></th>\n",
       "      <th>lab</th>\n",
       "      <th>freq_text</th>\n",
       "      <th>freq_val</th>\n",
       "    </tr>\n",
       "  </thead>\n",
       "  <tbody>\n",
       "    <tr>\n",
       "      <th>7068</th>\n",
       "      <td>malfunzionamento</td>\n",
       "      <td>https://hdl.handle.net/11321/737</td>\n",
       "      <td>2</td>\n",
       "    </tr>\n",
       "    <tr>\n",
       "      <th>7069</th>\n",
       "      <td>malfunzionamento</td>\n",
       "      <td>https://hdl.handle.net/20.500.11752/OPEN-534</td>\n",
       "      <td>1</td>\n",
       "    </tr>\n",
       "    <tr>\n",
       "      <th>7070</th>\n",
       "      <td>malfunzionamento</td>\n",
       "      <td>https://hdl.handle.net/20.500.12124/3</td>\n",
       "      <td>2</td>\n",
       "    </tr>\n",
       "  </tbody>\n",
       "</table>\n",
       "</div>"
      ],
      "text/plain": [
       "                   lab                                     freq_text  freq_val\n",
       "7068  malfunzionamento              https://hdl.handle.net/11321/737         2\n",
       "7069  malfunzionamento  https://hdl.handle.net/20.500.11752/OPEN-534         1\n",
       "7070  malfunzionamento         https://hdl.handle.net/20.500.12124/3         2"
      ]
     },
     "execution_count": 73,
     "metadata": {},
     "output_type": "execute_result"
    }
   ],
   "source": [
    "df[df.lex == 'http://hdl.handle.net/20.500.11752/ILC-73#21420'][['lab', 'freq_text', 'freq_val']]"
   ]
  }
 ],
 "metadata": {
  "kernelspec": {
   "display_name": "lila-kernel",
   "language": "python",
   "name": "lila-kernel"
  },
  "language_info": {
   "codemirror_mode": {
    "name": "ipython",
    "version": 3
   },
   "file_extension": ".py",
   "mimetype": "text/x-python",
   "name": "python",
   "nbconvert_exporter": "python",
   "pygments_lexer": "ipython3",
   "version": "3.9.7"
  },
  "orig_nbformat": 4
 },
 "nbformat": 4,
 "nbformat_minor": 2
}
